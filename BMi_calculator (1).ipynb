{
 "cells": [
  {
   "cell_type": "code",
   "execution_count": 38,
   "metadata": {},
   "outputs": [
    {
     "name": "stdout",
     "output_type": "stream",
     "text": [
      "Enter the height in cm :  171\n",
      "Enter the Weight in kg:  96\n",
      "32.83061454806607 Moderately obese Medium risk\n"
     ]
    }
   ],
   "source": [
    "\n",
    "data=[{\"Gender\": \"Male\", \"HeightCm\": 171, \"WeightKg\": 96 },\n",
    "{ \"Gender\": \"Male\", \"HeightCm\": 161, \"WeightKg\": 85 },\n",
    "{ \"Gender\": \"Male\", \"HeightCm\": 180, \"WeightKg\": 77 },\n",
    "{ \"Gender\": \"Female\", \"HeightCm\": 166, \"WeightKg\": 62},\n",
    "{\"Gender\": \"Female\", \"HeightCm\": 150, \"WeightKg\": 70},\n",
    "{\"Gender\": \"Female\", \"HeightCm\": 167, \"WeightKg\": 82}]\n",
    "\n",
    "\n",
    "height = float(input(\"Enter the height in cm :  \"))\n",
    "weight = float(input(\"Enter the Weight in kg:  \"))\n",
    "\n",
    "height_1=height/100\n",
    "\n",
    "BMI_Category = weight/float(height_1*height_1)\n",
    "\n",
    "if BMI_Category < 18.5:\n",
    "    print(BMI_Category ,'Underweight' , 'Malnutrition risk')\n",
    "elif BMI_Category>=18.5 and BMI_Category<25:\n",
    "    print(BMI_Category ,\"Normal\",\"Low risk\")\n",
    "elif BMI_Category >= 25 and BMI_Category < 30:\n",
    "    print(BMI_Category,'Overweight',\"Enhanced risk\")\n",
    "elif BMI_Category >= 30 and BMI_Category < 35:\n",
    "    print(BMI_Category,'Moderately obese',\"Medium risk\")\n",
    "elif BMI_Category>=35 and BMI_Category<40:\n",
    "    print(BMI_Category,\"Severely obese\",\"High risk\")\n",
    "else:\n",
    "    print(BMI_Category,\"Very severely obese\",\"Very high risk\")\n",
    "\n",
    "\n",
    "    \n"
   ]
  },
  {
   "cell_type": "code",
   "execution_count": null,
   "metadata": {},
   "outputs": [],
   "source": []
  }
 ],
 "metadata": {
  "kernelspec": {
   "display_name": "Python 3",
   "language": "python",
   "name": "python3"
  },
  "language_info": {
   "codemirror_mode": {
    "name": "ipython",
    "version": 3
   },
   "file_extension": ".py",
   "mimetype": "text/x-python",
   "name": "python",
   "nbconvert_exporter": "python",
   "pygments_lexer": "ipython3",
   "version": "3.7.6"
  }
 },
 "nbformat": 4,
 "nbformat_minor": 4
}
